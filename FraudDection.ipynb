{
  "nbformat": 4,
  "nbformat_minor": 0,
  "metadata": {
    "colab": {
      "provenance": []
    },
    "kernelspec": {
      "name": "python3",
      "display_name": "Python 3"
    },
    "language_info": {
      "name": "python"
    }
  },
  "cells": [
    {
      "cell_type": "code",
      "source": [
        "import pandas as pd\n",
        "import numpy as np\n",
        "import matplotlib.pyplot as plt\n",
        "import seaborn as sns"
      ],
      "metadata": {
        "id": "VIAbaNw1ch9s"
      },
      "execution_count": null,
      "outputs": []
    },
    {
      "cell_type": "code",
      "source": [
        "sns.set(style='whitegrid')"
      ],
      "metadata": {
        "id": "MLufycq3djWo"
      },
      "execution_count": null,
      "outputs": []
    },
    {
      "cell_type": "code",
      "source": [
        "import warnings\n",
        "warnings.filterwarnings('ignore')"
      ],
      "metadata": {
        "id": "J5IoTKfJdrir"
      },
      "execution_count": null,
      "outputs": []
    },
    {
      "cell_type": "code",
      "source": [
        "df = pd.read_csv(\"AIML Dataset.csv\")"
      ],
      "metadata": {
        "id": "HKSySYkQdzn3"
      },
      "execution_count": null,
      "outputs": []
    },
    {
      "cell_type": "code",
      "source": [
        "df.head()"
      ],
      "metadata": {
        "id": "xgzkubBfeAOE"
      },
      "execution_count": null,
      "outputs": []
    },
    {
      "cell_type": "code",
      "source": [
        "df.info()       # general info about data types and memory usuage, here we have 7 float, 1 integer and 3 object types"
      ],
      "metadata": {
        "id": "COAYAIXngp20"
      },
      "execution_count": null,
      "outputs": []
    },
    {
      "cell_type": "code",
      "source": [
        "df.columns"
      ],
      "metadata": {
        "id": "5CpovHnggwED"
      },
      "execution_count": null,
      "outputs": []
    },
    {
      "cell_type": "code",
      "source": [
        "df['isFraud'].value_counts()"
      ],
      "metadata": {
        "id": "PUzpcc7ihWNA"
      },
      "execution_count": null,
      "outputs": []
    },
    {
      "cell_type": "code",
      "source": [
        "df['isFlaggedFraud'].value_counts()"
      ],
      "metadata": {
        "id": "sQefAeKEwSyU"
      },
      "execution_count": null,
      "outputs": []
    },
    {
      "cell_type": "code",
      "source": [
        "df.isnull().sum().sum()     # isnull() returns cell wise boolean; sum() it returns in column wise"
      ],
      "metadata": {
        "id": "rWoOTUf0w-fI"
      },
      "execution_count": null,
      "outputs": []
    },
    {
      "cell_type": "code",
      "source": [
        "df.shape  # we have 7...rows,11 columns"
      ],
      "metadata": {
        "id": "CbA-2wAixEvN"
      },
      "execution_count": null,
      "outputs": []
    },
    {
      "cell_type": "code",
      "source": [
        "# want to see percentage of fraud to the total data\n",
        "\n",
        "(df['isFraud'].value_counts()[1]/df.shape[0]) * 100"
      ],
      "metadata": {
        "id": "P-k6uOjO3Z9R"
      },
      "execution_count": null,
      "outputs": []
    },
    {
      "cell_type": "markdown",
      "source": [
        "df['isfraud'] ---> picks the column named isFraud from the dataframe(likely contains 1 for fraud and 0 for not fraud)\n",
        "\n",
        "value_counts() ---> counts how many 1s and 0s are there in that column\n",
        "\n",
        "[1] ---> select the counts of rows where isfraud is 1\n",
        "\n",
        "df.shape[0] ---> gets the total number of rows in the dataframe.\n",
        "\n",
        "Example:\n",
        "\n",
        "If your data looks like this:\n",
        "\n",
        "isFraud\n",
        "0\n",
        "1\n",
        "0\n",
        "1\n",
        "0\n",
        "\n",
        "value_counts() → {0: 3, 1: 2}\n",
        "\n",
        "So value_counts()[1] → 2 (fraud cases)\n",
        "\n",
        "df.shape[0] → 5 (total rows)"
      ],
      "metadata": {
        "id": "GidICiIk4vU8"
      }
    },
    {
      "cell_type": "code",
      "source": [
        "round((df['isFraud'].value_counts()[1] / df.shape[0])*100,2)"
      ],
      "metadata": {
        "id": "ssHPp4OO4LlP"
      },
      "execution_count": null,
      "outputs": []
    },
    {
      "cell_type": "code",
      "source": [
        "# now we'll analyze our data by visualizing imp thing about fraud detection. let's start with visualing transcation types.\n",
        "\n",
        "df[\"type\"].value_counts().plot(kind='bar', title='Transaction type', color='skyblue')\n",
        "plt.xlabel('Transactional type')\n",
        "plt.ylabel('Count')\n",
        "plt.show()"
      ],
      "metadata": {
        "id": "g78CJx4g7V98"
      },
      "execution_count": null,
      "outputs": []
    },
    {
      "cell_type": "code",
      "source": [
        "# to find fraud rates by type\n",
        "\n",
        "fraud_by_type = df.groupby('type')['isFraud'].mean().sort_values(ascending=False)\n",
        "fraud_by_type.plot(kind='bar', title='Fraud rate by type', color='salmon')\n",
        "plt.ylabel('Fraud rate')\n",
        "plt.show()"
      ],
      "metadata": {
        "id": "c7KkyHfK9LHX"
      },
      "execution_count": null,
      "outputs": []
    },
    {
      "cell_type": "code",
      "source": [
        "fraud_by_type"
      ],
      "metadata": {
        "id": "F8-iHiSm-wSs"
      },
      "execution_count": null,
      "outputs": []
    },
    {
      "cell_type": "code",
      "source": [],
      "metadata": {
        "id": "jKW3PsUlALBb"
      },
      "execution_count": null,
      "outputs": []
    }
  ]
}