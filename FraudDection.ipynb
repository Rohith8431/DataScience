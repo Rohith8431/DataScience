{
  "nbformat": 4,
  "nbformat_minor": 0,
  "metadata": {
    "colab": {
      "provenance": []
    },
    "kernelspec": {
      "name": "python3",
      "display_name": "Python 3"
    },
    "language_info": {
      "name": "python"
    }
  },
  "cells": [
    {
      "cell_type": "code",
      "source": [
        "import pandas as pd\n",
        "import numpy as np\n",
        "import matplotlib.pyplot as plt\n",
        "import seaborn as sns"
      ],
      "metadata": {
        "id": "VIAbaNw1ch9s"
      },
      "execution_count": null,
      "outputs": []
    },
    {
      "cell_type": "code",
      "source": [
        "sns.set(style='whitegrid')"
      ],
      "metadata": {
        "id": "MLufycq3djWo"
      },
      "execution_count": null,
      "outputs": []
    },
    {
      "cell_type": "markdown",
      "source": [
        "This line is from the Seaborn library, which is used for data visualization in Python.\n",
        "\n",
        "sns is the common alias for seaborn (usually written as import seaborn as sns).\n",
        "\n",
        "set() is a function used to set the style of the plots.\n",
        "\n",
        "style='whitegrid' means:\n",
        "➤ Use a white background with light grey gridlines on it.\n",
        "\n",
        "Why use it?\n",
        "\n",
        "It makes your charts look cleaner and easier to read, especially for plots like bar charts or line graphs where the grid can help compare values."
      ],
      "metadata": {
        "id": "U3NePNbqEwpL"
      }
    },
    {
      "cell_type": "code",
      "source": [
        "import warnings\n",
        "warnings.filterwarnings('ignore')"
      ],
      "metadata": {
        "id": "J5IoTKfJdrir"
      },
      "execution_count": null,
      "outputs": []
    },
    {
      "cell_type": "markdown",
      "source": [
        "import warnings:\n",
        "This brings in Python’s warnings module, which is used to show warning messages (not errors, just alerts or suggestions).\n",
        "\n",
        "warnings.filterwarnings('ignore'):\n",
        "This tells Python to ignore all warning messages.\n",
        "\n",
        "Why use it?\n",
        "\n",
        "Sometimes, when running code (especially with external libraries), Python shows warnings like:\n",
        "\n",
        "\"This feature is deprecated\"\n",
        "or\n",
        "\"This may change in future versions\"\n",
        "\n",
        "These warnings don't stop the code from running, but they can clutter your output. So, this line is used to hide those warnings and keep the output clean.\n",
        "\n",
        "Be careful though — hiding warnings can sometimes make you miss important notices that could affect your code later."
      ],
      "metadata": {
        "id": "WqZ9VYxrHR9F"
      }
    },
    {
      "cell_type": "code",
      "source": [
        "df = pd.read_csv(\"AIML Dataset.csv\")"
      ],
      "metadata": {
        "id": "HKSySYkQdzn3"
      },
      "execution_count": null,
      "outputs": []
    },
    {
      "cell_type": "code",
      "source": [
        "df.head()"
      ],
      "metadata": {
        "id": "xgzkubBfeAOE"
      },
      "execution_count": null,
      "outputs": []
    },
    {
      "cell_type": "code",
      "source": [
        "df.info()       # general info about data types and memory usuage, here we have 7 float, 1 integer and 3 object types"
      ],
      "metadata": {
        "id": "COAYAIXngp20"
      },
      "execution_count": null,
      "outputs": []
    },
    {
      "cell_type": "code",
      "source": [
        "df.columns"
      ],
      "metadata": {
        "id": "5CpovHnggwED"
      },
      "execution_count": null,
      "outputs": []
    },
    {
      "cell_type": "code",
      "source": [
        "df['isFraud'].value_counts()"
      ],
      "metadata": {
        "id": "PUzpcc7ihWNA"
      },
      "execution_count": null,
      "outputs": []
    },
    {
      "cell_type": "code",
      "source": [
        "df['isFlaggedFraud'].value_counts()"
      ],
      "metadata": {
        "id": "sQefAeKEwSyU"
      },
      "execution_count": null,
      "outputs": []
    },
    {
      "cell_type": "code",
      "source": [
        "df.isnull().sum().sum()     # isnull() returns cell wise boolean; sum() it returns in column wise"
      ],
      "metadata": {
        "id": "rWoOTUf0w-fI"
      },
      "execution_count": null,
      "outputs": []
    },
    {
      "cell_type": "markdown",
      "source": [
        "df:\n",
        "This is your DataFrame — basically a table of data (like an Excel sheet).\n",
        "\n",
        "df.isnull():\n",
        "This checks every cell in the DataFrame for missing values (NaN = Not a Number).\n",
        "➤ It returns a new DataFrame of the same size, but with True where the value is missing, and False where it's not.\n",
        "\n",
        ".sum() (first one):\n",
        "This sums up the True values column by column. In Python, True counts as 1 and False as 0.\n",
        "➤ So, now you get a Series that tells how many missing values are in each column.\n",
        "\n",
        ".sum() (second one):\n",
        "This adds up all the column totals, giving you the total number of missing values in the entire DataFrame.\n",
        "\n",
        "Example:\n",
        "\n",
        "Let’s say your DataFrame looks like this:\n",
        "\n",
        "A\t    B\n",
        "1\t    NaN\n",
        "NaN\t  5\n",
        "3\t    6\n",
        "\n",
        "Then:\n",
        "\n",
        "df.isnull()\n",
        "\n",
        "\n",
        "returns:\n",
        "\n",
        "A\t    B\n",
        "False\tTrue\n",
        "True\tFalse\n",
        "False\tFalse\n",
        "\n",
        "Then:\n",
        "\n",
        "df.isnull().sum()\n",
        "\n",
        "\n",
        "returns:\n",
        "\n",
        "A    1\n",
        "B    1\n",
        "\n",
        "\n",
        "Finally:\n",
        "\n",
        "df.isnull().sum().sum()\n",
        "\n",
        "\n",
        "returns:\n",
        "\n",
        "2\n",
        "\n",
        "Your output: np.int64(0)\n",
        "\n",
        "This means:\n",
        "\n",
        "There are no missing values (NaN) in your DataFrame.\n",
        "\n",
        "The result is 0, and it's in the data type np.int64, which is just NumPy's version of a 64-bit integer."
      ],
      "metadata": {
        "id": "g4JSOCbyMaC8"
      }
    },
    {
      "cell_type": "code",
      "source": [
        "df.shape  # we have 7...rows,11 columns"
      ],
      "metadata": {
        "id": "CbA-2wAixEvN"
      },
      "execution_count": null,
      "outputs": []
    },
    {
      "cell_type": "code",
      "source": [
        "# want to see percentage of fraud to the total data\n",
        "\n",
        "(df['isFraud'].value_counts()[1]/df.shape[0]) * 100"
      ],
      "metadata": {
        "id": "P-k6uOjO3Z9R"
      },
      "execution_count": null,
      "outputs": []
    },
    {
      "cell_type": "markdown",
      "source": [
        "df['isfraud'] ---> picks the column named isFraud from the dataframe(likely contains 1 for fraud and 0 for not fraud)\n",
        "\n",
        "value_counts() ---> counts how many 1s and 0s are there in that column\n",
        "\n",
        "[1] ---> select the counts of rows where isfraud is 1\n",
        "\n",
        "df.shape[0] ---> gets the total number of rows in the dataframe.\n",
        "\n",
        "Example:\n",
        "\n",
        "If your data looks like this:\n",
        "\n",
        "isFraud\n",
        "0\n",
        "1\n",
        "0\n",
        "1\n",
        "0\n",
        "\n",
        "value_counts() → {0: 3, 1: 2}\n",
        "\n",
        "So value_counts()[1] → 2 (fraud cases)\n",
        "\n",
        "df.shape[0] → 5 (total rows)"
      ],
      "metadata": {
        "id": "GidICiIk4vU8"
      }
    },
    {
      "cell_type": "code",
      "source": [
        "round((df['isFraud'].value_counts()[1] / df.shape[0])*100,2)"
      ],
      "metadata": {
        "id": "ssHPp4OO4LlP"
      },
      "execution_count": null,
      "outputs": []
    },
    {
      "cell_type": "code",
      "source": [
        "# now we'll analyze our data by visualizing imp thing about fraud detection. let's start with visualing transcation types.\n",
        "\n",
        "df[\"type\"].value_counts().plot(kind='bar', title='Transaction type', color='skyblue')\n",
        "plt.xlabel('Transactional type')\n",
        "plt.ylabel('Count')\n",
        "plt.show()"
      ],
      "metadata": {
        "id": "g78CJx4g7V98"
      },
      "execution_count": null,
      "outputs": []
    },
    {
      "cell_type": "code",
      "source": [
        "# to find fraud rates by type\n",
        "\n",
        "fraud_by_type = df.groupby('type')['isFraud'].mean().sort_values(ascending=False)\n",
        "fraud_by_type.plot(kind='bar', title='Fraud rate by type', color='salmon')\n",
        "plt.ylabel('Fraud rate')\n",
        "plt.show()"
      ],
      "metadata": {
        "id": "c7KkyHfK9LHX"
      },
      "execution_count": null,
      "outputs": []
    },
    {
      "cell_type": "code",
      "source": [
        "fraud_by_type"
      ],
      "metadata": {
        "id": "F8-iHiSm-wSs"
      },
      "execution_count": null,
      "outputs": []
    },
    {
      "cell_type": "code",
      "source": [
        "# let's see amount statistics\n",
        "df['amount'].describe()  #getting scientific values"
      ],
      "metadata": {
        "id": "jKW3PsUlALBb"
      },
      "execution_count": null,
      "outputs": []
    },
    {
      "cell_type": "code",
      "source": [
        "df['amount'].describe().astype(int)"
      ],
      "metadata": {
        "id": "so9287ECqhbe"
      },
      "execution_count": null,
      "outputs": []
    },
    {
      "cell_type": "code",
      "source": [
        "#now let's see the histogram for this\n",
        "\n",
        "sns.histplot(np.log1p(df['amount']), bins=100, kde=True, color='green')\n",
        "plt.title(\"transaction amount distribution (log scale)\")\n",
        "plt.xlabel(\"Log (amount+1)\")\n",
        "plt.show()"
      ],
      "metadata": {
        "id": "gnrrQp-wqtNj"
      },
      "execution_count": null,
      "outputs": []
    },
    {
      "cell_type": "code",
      "source": [
        "sns.boxplot(data = df[df['amount'] < 50000], x='isFraud', y='amount')\n",
        "plt.title('Amount vs isFraud(filtered under 50k)')\n",
        "plt.show()"
      ],
      "metadata": {
        "id": "WKmMKK8WsEoq"
      },
      "execution_count": null,
      "outputs": []
    },
    {
      "cell_type": "code",
      "source": [
        "df.columns"
      ],
      "metadata": {
        "id": "CkL035zr1-SG"
      },
      "execution_count": null,
      "outputs": []
    },
    {
      "cell_type": "code",
      "source": [
        "# let's see balance chain and anomalies\n",
        "# here creating 2 diff col as balance difference of the origin a/c & dest a/c. Then we can see if we have -ve balance on that side.\n",
        "df['balanceDiffOrigin'] = df['oldbalanceOrg'] - df['newbalanceOrig']\n",
        "df['balanceDiffDest'] = df['newbalanceDest'] - df['oldbalanceDest']"
      ],
      "metadata": {
        "id": "4BYPmSS3xqZ0"
      },
      "execution_count": null,
      "outputs": []
    },
    {
      "cell_type": "markdown",
      "source": [
        "df['balanceDiffOrigin'] = df['oldbalanceOrg'] - df['newbalanceOrig']\n",
        "\n",
        "This calculates how much money was deducted from the origin account during a transaction.\n",
        "\n",
        "So ideally, this should reflect the amount transferred (if no error or fraud).\n",
        "\n",
        "Then:\n",
        "\n",
        "(df['balanceDiffOrigin']).sum()\n",
        "\n",
        "\n",
        "This adds up all the balance changes from all rows.\n",
        "\n",
        "A negative total means:\n",
        "  Across all transactions, the origin accounts gained money instead of losing it (which is unusual for typical transfers).\n",
        "\n",
        "Possible Reasons for Negative Sum:\n",
        "\n",
        "Data Errors or Corruption\n",
        "\n",
        "Some rows might have values where the newbalanceOrig is greater than the oldbalanceOrg, meaning money was added — not deducted — which can be wrong depending on context.\n",
        "\n",
        "Fraudulent or Invalid Transactions\n",
        "\n",
        "In fraud detection datasets, some transactions may be crafted to simulate fraud (like incorrect balance updates).\n",
        "\n",
        "Missing or Zero Values\n",
        "\n",
        "If oldbalanceOrg is 0 and newbalanceOrig is also 0 — or worse, negative — it could affect the sum.\n",
        "\n",
        "Sometimes, these columns might have zeros instead of NaN, which leads to misleading calculations.\n",
        "\n",
        "Transaction Types\n",
        "\n",
        "Did you filter by transaction type?\n",
        "For example, a \"CASH-IN\" adds money, while a \"TRANSFER\" deducts it. If you're mixing types, the sum could be negative.\n",
        "\n",
        "What You Can Do:\n",
        "1. Check a few rows manually:\n",
        "df[['oldbalanceOrg', 'newbalanceOrig', 'balanceDiffOrigin']].head(10)\n",
        "\n",
        "\n",
        "Look for unexpected cases where:\n",
        "\n",
        "newbalanceOrig > oldbalanceOrg\n",
        "\n",
        "oldbalanceOrg == 0 but newbalanceOrig != 0, etc.\n",
        "\n",
        "2. Group by transaction type:\n",
        "df.groupby('type')['balanceDiffOrigin'].sum()\n",
        "\n",
        "\n",
        "This will show you the sum of balance differences by transaction type. That can help reveal which types are causing the issue.\n",
        "\n",
        "3. Check for invalid rows:\n",
        "df[df['balanceDiffOrigin'] < 0].head()\n",
        "\n",
        "\n",
        "This shows examples of rows where the origin balance increased, which might be unexpected.\n",
        "\n",
        "4. Check for negative balances:\n",
        "df[(df['oldbalanceOrg'] < 0) | (df['newbalanceOrig'] < 0)]\n",
        "\n",
        "\n",
        "If you see any, that's likely incorrect.\n",
        "\n",
        "Summary\n",
        "\n",
        "The negative sum means that, overall, money appears to be added to origin accounts across all transactions — which is unusual and worth investigating. Start by checking for:\n",
        "\n",
        "Specific transaction types\n",
        "\n",
        "Incorrect or missing data\n",
        "\n",
        "Negative or zero balances"
      ],
      "metadata": {
        "id": "OedeHe2fFTN-"
      }
    },
    {
      "cell_type": "code",
      "source": [
        "df['balanceDiffOrigin'] < 0"
      ],
      "metadata": {
        "id": "eCrqtVEy2eZs"
      },
      "execution_count": null,
      "outputs": []
    },
    {
      "cell_type": "code",
      "source": [
        "(df['balanceDiffOrigin']).sum()"
      ],
      "metadata": {
        "id": "-0AA_TM24s3o"
      },
      "execution_count": null,
      "outputs": []
    },
    {
      "cell_type": "code",
      "source": [
        "(df['balanceDiffDest']).sum()"
      ],
      "metadata": {
        "id": "2XVK01q9Ai8P"
      },
      "execution_count": null,
      "outputs": []
    },
    {
      "cell_type": "code",
      "source": [],
      "metadata": {
        "id": "-CaDSOW8ByRZ"
      },
      "execution_count": null,
      "outputs": []
    }
  ]
}