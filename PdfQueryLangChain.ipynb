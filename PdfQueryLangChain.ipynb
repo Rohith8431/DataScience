{
  "nbformat": 4,
  "nbformat_minor": 0,
  "metadata": {
    "colab": {
      "provenance": []
    },
    "kernelspec": {
      "name": "python3",
      "display_name": "Python 3"
    },
    "language_info": {
      "name": "python"
    }
  },
  "cells": [
    {
      "cell_type": "markdown",
      "source": [
        "Pdf has lot of text and info and i want to use langchain and open ai api, to query data by aking question and i want get the output\n",
        "\n"
      ],
      "metadata": {
        "id": "mmZbpI8lJcYE"
      }
    },
    {
      "cell_type": "code",
      "source": [
        "#  pip install langchain   # A tool for creating and querying embedded text\n",
        "#  pip install openai      # The official OpenAI API client, necessary to fetch embeddings\n",
        "#  pip install PyPDF2      # pypdf2 library,used to read from pdf file itself;  A library to read and manipulate PDF files\n",
        "#  pip install tiktoken    # tiktoken is a dependency library, that focuses on creating tokens;   OpenAI’s Python library for counting tokens in text strings without calling APIs\n",
        "#  pip install faiss-cpu   #  Efficient similarity search and clustering of dense vectors"
      ],
      "metadata": {
        "id": "QHdOMOEcrm1t"
      },
      "execution_count": null,
      "outputs": []
    },
    {
      "cell_type": "code",
      "source": [
        "# pip install -U langchain-community"
      ],
      "metadata": {
        "id": "8aoMnAEXwFY6"
      },
      "execution_count": null,
      "outputs": []
    },
    {
      "cell_type": "code",
      "source": [
        "from PyPDF2 import PdfReader   #pdfReader responsible for reading pdf file\n",
        "from langchain.embeddings.openai import OpenAIEmbeddings    #openai embedding measures the relatedness of text strings, commonly used for search,clustering,classification etc. in simple way, if i ask ques in uploded pdf it should give me ans.\n",
        "from langchain.text_splitter import CharacterTextSplitter   # the content i have in pdf, i'll spilt into considering special character like a new line and how much text size. this is specifically done bcz whenever we are using openai embedding, we have fixed size of tokens.\n",
        "from langchain.vectorstores import FAISS  #faiss is just like a vector db, when we try to create embeddings of text data that is present in pdf,we'll try to store in the vector stores."
      ],
      "metadata": {
        "id": "IgewkWbnriQC"
      },
      "execution_count": null,
      "outputs": []
    },
    {
      "cell_type": "markdown",
      "source": [
        "LangChain recently split many of its integrations into separate packages under langchain-community to keep the core lightweight. If you're using embeddings like HuggingFaceEmbeddings, OpenAIEmbeddings, or others, they're now part of the langchain_community.embeddings module."
      ],
      "metadata": {
        "id": "hDEaeoqaxI-j"
      }
    },
    {
      "cell_type": "code",
      "source": [
        "import os\n",
        "os.environ[\"OPENAI_API_KEY\"] = \"\""
      ],
      "metadata": {
        "id": "Nm-N6y-pwBaI"
      },
      "execution_count": null,
      "outputs": []
    },
    {
      "cell_type": "markdown",
      "source": [
        "It tells your Python program:\n",
        "\n",
        "\"Hey, here is my OpenAI key so I can use ChatGPT or other OpenAI tools in my code.\"\n",
        "\n",
        "But right now the key is empty — so it's like giving OpenAI no key, and it won’t work until you put your real key there.\n",
        "\n",
        "What should you do?\n",
        "\n",
        "Replace the \"\" with your real OpenAI key (it starts with sk-...). For example:\n",
        "\n",
        "os.environ[\"OPENAI_API_KEY\"] = \"sk-your-real-key-here\"\n",
        "\n",
        "\n",
        "Extra tip:\n",
        "\n",
        "Don't share your key with anyone. It's like a password for using OpenAI."
      ],
      "metadata": {
        "id": "gtbxDomky367"
      }
    },
    {
      "cell_type": "code",
      "source": [
        "pdfreader = PdfReader(\"Rohith_Resume.pdf\")"
      ],
      "metadata": {
        "id": "mry6j1U1xj3m"
      },
      "execution_count": null,
      "outputs": []
    },
    {
      "cell_type": "code",
      "source": [
        "# to read each and every pages i'll import libraries\n",
        "from typing_extensions import Concatenate  # to read every page in my pdf\n",
        "raw_text = \"\"\n",
        "for i, page in enumerate(pdfreader.pages):\n",
        "  content = page.extract_text()\n",
        "  if content:\n",
        "    raw_text+= content"
      ],
      "metadata": {
        "id": "L4IgEn7T5a8i"
      },
      "execution_count": null,
      "outputs": []
    },
    {
      "cell_type": "code",
      "source": [
        "raw_text"
      ],
      "metadata": {
        "colab": {
          "base_uri": "https://localhost:8080/",
          "height": 139
        },
        "id": "WCB555Te7TNH",
        "outputId": "3c9296d1-09d2-42e7-d937-af3db9ec3e80"
      },
      "execution_count": null,
      "outputs": [
        {
          "output_type": "execute_result",
          "data": {
            "text/plain": [
              "\"ROHITH GOWDA K  \\n \\nMobile Number : 8431887589                                                                                 Gmail: rohithgowdak77@gmail.com  \\n                                                                                                                                                               \\n \\nSummary : \\n \\n➢ Highly motivated and detail -oriented  in Python and  DevOps , with a strong foundation in programming and \\nproblem -solving skills  and hands -on experience  in deploying, automating, and optimizing software \\ndevelopment processes.  Eager to contribute to a dynamic team and grow within a forward -thinking organization.  \\n➢ Proficient with writing clean and effici ent code and identifying  and fixing critical bugs.   \\n➢ Proficient with DevOps tools such as Git, GitHub, Maven, Jenkins, Ansible, Docker, Kubernetes , and \\nTerraform . \\n➢ Hands-on experience  implementing and managing CI/CD pipelines using tools  like Jenkins.  \\n➢ Good Knowl edge of Ansible, playbooks, inventory, and writing YAML code.  \\n➢ Hands -on experience creating and managing docker containers and docker -compose.  \\n➢ Proficient in deploying and managing applications in Kubernetes environments  \\n➢ Hands -on experience with infrastructure as code (IaC) tools such as Terraform . \\n➢ Hands-on experience with AWS services such as EC2, S3, IAM, and VPC.  \\n➢ Strong  understanding of networking concepts, including TCP/IP, DNS, HTTP/HTTPS,  Routes, IP Addressing, \\nand Subnet .  \\nEducation:   \\n \\n   B.E in Computer Science and Engineering  Aug 2019 - May 2023  \\n   Government Engineering College , Ramanagaram                                                                      7.45 CGPA   \\n \\nSkills:  \\n \\n➢ Scripting Language: Python   \\n➢ Operating Systems: Linux, Windows  \\n➢ Version Controlling System Tools: GIT, GitHub  \\n➢ CI/CD Tool: Jenkins  \\n➢ Build Tool: Maven  \\n➢ Configuration Management Tool: Ansible  ➢ Application/Web server: Tomcat , Nginx  \\n➢ Artifact Management: JFrog  \\n➢ Containerization Tools: Docker  and Kubernetes  \\n➢ Infrastructure as a Code: Terraform  \\n➢ Automated Code Review: SonarQube   \\n➢ Monitoring Tools: Prometheus, Grafana  \\n➢ Cloud: AWS  \\n➢ Networking  (basic knowledge)  \\n \\nSoft Skills:  \\n \\n➢ Strong problem -solving and analytical abilities  \\n➢ Excellent communication and teamwork skills  \\n➢ Adaptability and quick learning  \\n \\nHobbies/Interests:  \\n \\n➢ Researching  and working on new concepts to increase my  skill level.  \\n➢ Enjoy experimenting with new technologies and tools . \\n➢ Exercise, Reading, and watching movies.  \\n \\nProject:  \\n \\nTitle: Using Terraform , Jenkins , and AWS to Deploy  REST API  \\n \\n➢ The tools  used for this project are Terraform, Jenkins, and AWS.  \\n➢ For this application , I am  building a REST -based  application, where I have some rest endpoints,  and those rest \\nendpoint  applications  will be able to store the data in the database that will be an RDS instance using  MySQL . \\nThis whole application is going to be our Python Flask  application . \\n➢ Here , using my custom domain , I'll be us ing my REST  API services deployed onto my ec2 instance  so that the \\nec2 instance will store the data onto our RDS instance using MySQL . \""
            ],
            "application/vnd.google.colaboratory.intrinsic+json": {
              "type": "string"
            }
          },
          "metadata": {},
          "execution_count": 23
        }
      ]
    },
    {
      "cell_type": "code",
      "source": [],
      "metadata": {
        "id": "G0nMskjo7VTv"
      },
      "execution_count": null,
      "outputs": []
    }
  ]
}