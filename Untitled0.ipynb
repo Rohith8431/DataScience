{
  "nbformat": 4,
  "nbformat_minor": 0,
  "metadata": {
    "colab": {
      "provenance": []
    },
    "kernelspec": {
      "name": "python3",
      "display_name": "Python 3"
    },
    "language_info": {
      "name": "python"
    }
  },
  "cells": [
    {
      "cell_type": "markdown",
      "source": [
        "Py OOPS"
      ],
      "metadata": {
        "id": "j9ErgV8sJsGG"
      }
    },
    {
      "cell_type": "markdown",
      "source": [
        "class and object"
      ],
      "metadata": {
        "id": "cbLCqvG5kkDN"
      }
    },
    {
      "cell_type": "code",
      "execution_count": null,
      "metadata": {
        "id": "ecrRt1JBB13l"
      },
      "outputs": [],
      "source": [
        "class demo :\n",
        "  \"this is a demo\""
      ]
    },
    {
      "cell_type": "code",
      "source": [
        "s=demo()"
      ],
      "metadata": {
        "id": "ucYoytKRCGEH"
      },
      "execution_count": null,
      "outputs": []
    },
    {
      "cell_type": "code",
      "source": [
        "s"
      ],
      "metadata": {
        "id": "VVrWkKS3CLBu"
      },
      "execution_count": null,
      "outputs": []
    },
    {
      "cell_type": "code",
      "source": [
        "class sample :\n",
        "  def display():\n",
        "    print(\"This is a display function\")"
      ],
      "metadata": {
        "id": "4eaYYykzNHp8"
      },
      "execution_count": null,
      "outputs": []
    },
    {
      "cell_type": "code",
      "source": [
        "obj = sample()"
      ],
      "metadata": {
        "id": "NK6y62DMCO0W"
      },
      "execution_count": null,
      "outputs": []
    },
    {
      "cell_type": "code",
      "source": [
        "#to call function\n",
        "obj.display()"
      ],
      "metadata": {
        "id": "gBXt65W4Ta-U"
      },
      "execution_count": null,
      "outputs": []
    },
    {
      "cell_type": "code",
      "source": [
        "class sample :\n",
        "  def display(self):\n",
        "    print(\"This is a new display function\")"
      ],
      "metadata": {
        "id": "fqyBlbEkThqM"
      },
      "execution_count": null,
      "outputs": []
    },
    {
      "cell_type": "code",
      "source": [
        "obj=sample()"
      ],
      "metadata": {
        "id": "5xQKlwsIVatA"
      },
      "execution_count": null,
      "outputs": []
    },
    {
      "cell_type": "code",
      "source": [
        "obj.display()"
      ],
      "metadata": {
        "id": "0W55JX_GVe8_"
      },
      "execution_count": null,
      "outputs": []
    },
    {
      "cell_type": "code",
      "source": [
        "class sample :\n",
        "  def display (self):\n",
        "    print(\"This is display function\")\n",
        "  def mydisplay (self):\n",
        "    print(\"This is mydisplay fuction\")"
      ],
      "metadata": {
        "id": "2BcaAfgJWEmy"
      },
      "execution_count": null,
      "outputs": []
    },
    {
      "cell_type": "code",
      "source": [
        "obj1=sample()"
      ],
      "metadata": {
        "id": "Ggd5HzRRZoG_"
      },
      "execution_count": null,
      "outputs": []
    },
    {
      "cell_type": "code",
      "source": [
        "obj1.display()"
      ],
      "metadata": {
        "id": "Qej6q_Z9Zqhs"
      },
      "execution_count": null,
      "outputs": []
    },
    {
      "cell_type": "code",
      "source": [
        "obj1.mydisplay()"
      ],
      "metadata": {
        "id": "u4buPjmQZulw"
      },
      "execution_count": null,
      "outputs": []
    },
    {
      "cell_type": "markdown",
      "source": [
        "Constructor"
      ],
      "metadata": {
        "id": "GcvcgXhBkTg9"
      }
    },
    {
      "cell_type": "code",
      "source": [
        "class demo :\n",
        "  def __init__(self,name,age):\n",
        "    name=name\n",
        "    age=age\n",
        "\n",
        "  def display(self):\n",
        "    print(name)"
      ],
      "metadata": {
        "id": "23jQlMNiZxLk"
      },
      "execution_count": null,
      "outputs": []
    },
    {
      "cell_type": "code",
      "source": [
        "obj=demo()"
      ],
      "metadata": {
        "id": "VehhJPaSj_NV"
      },
      "execution_count": null,
      "outputs": []
    },
    {
      "cell_type": "code",
      "source": [
        "obj=demo('kumar',25)"
      ],
      "metadata": {
        "id": "FJwybuuMkD_p"
      },
      "execution_count": null,
      "outputs": []
    },
    {
      "cell_type": "code",
      "source": [
        "obj.display()"
      ],
      "metadata": {
        "id": "8Y00a4XskMvX"
      },
      "execution_count": null,
      "outputs": []
    },
    {
      "cell_type": "code",
      "source": [
        "# default constructor (not passed any arugments)\n",
        "class demo:\n",
        "  def __init__(self):\n",
        "    print(\"Hi\")"
      ],
      "metadata": {
        "id": "Xz3zweUgkQkz"
      },
      "execution_count": null,
      "outputs": []
    },
    {
      "cell_type": "code",
      "source": [
        "obj=demo() # execued bcz it was a constructor function"
      ],
      "metadata": {
        "id": "7OuDW7drnqma"
      },
      "execution_count": null,
      "outputs": []
    },
    {
      "cell_type": "code",
      "source": [
        "# constructor function (passed arugments)\n",
        "class sample:\n",
        "  def __init__(self,name,age):\n",
        "    self.name=name\n",
        "    self.age=age\n",
        "\n",
        "  def display(self):\n",
        "    print(self.name,self.age)"
      ],
      "metadata": {
        "id": "Xi_u3Cbwnt5d"
      },
      "execution_count": null,
      "outputs": []
    },
    {
      "cell_type": "code",
      "source": [
        "obj=sample()"
      ],
      "metadata": {
        "id": "zTp0umkEq0HN"
      },
      "execution_count": null,
      "outputs": []
    },
    {
      "cell_type": "code",
      "source": [
        "obj=sample('kumar',25)   # the o/p not execued here bcz the o/p we need is not in a constructor function, it's a normal function"
      ],
      "metadata": {
        "id": "7OqGVi3kq29V"
      },
      "execution_count": null,
      "outputs": []
    },
    {
      "cell_type": "code",
      "source": [
        "obj.display()"
      ],
      "metadata": {
        "id": "0EgXMQ3Lq7s2"
      },
      "execution_count": null,
      "outputs": []
    },
    {
      "cell_type": "code",
      "source": [
        "# static value for constructor\n",
        "\n",
        "class demo :\n",
        "  def __init__(self):\n",
        "    self.myname = \"Rohith\"\n",
        "\n",
        "  def display(self):\n",
        "    print(self.myname)"
      ],
      "metadata": {
        "id": "v-HztuEsrEj6"
      },
      "execution_count": null,
      "outputs": []
    },
    {
      "cell_type": "code",
      "source": [
        "obj=demo()"
      ],
      "metadata": {
        "id": "Dlr9nuFpuANG"
      },
      "execution_count": null,
      "outputs": []
    },
    {
      "cell_type": "code",
      "source": [
        "obj.display()"
      ],
      "metadata": {
        "id": "jDgRIeRzuCpR"
      },
      "execution_count": null,
      "outputs": []
    },
    {
      "cell_type": "code",
      "source": [
        "# in this eg we kept one value static and other can be changed\n",
        "class dum :\n",
        "  def __init__(self,a):\n",
        "    self.name = \"Rohith\"\n",
        "    self.age = a\n",
        "\n",
        "  def display(self):\n",
        "    print(self.name,self.age)"
      ],
      "metadata": {
        "id": "PZm4P_lruW4-"
      },
      "execution_count": null,
      "outputs": []
    },
    {
      "cell_type": "code",
      "source": [
        "ob=dum(25)"
      ],
      "metadata": {
        "id": "bANyuN9BwzwS"
      },
      "execution_count": null,
      "outputs": []
    },
    {
      "cell_type": "code",
      "source": [
        "ob.display()"
      ],
      "metadata": {
        "id": "RJzandCvw4DG"
      },
      "execution_count": null,
      "outputs": []
    },
    {
      "cell_type": "code",
      "source": [
        "ob=dum(50)"
      ],
      "metadata": {
        "id": "1R9VKm1Jw6Jr"
      },
      "execution_count": null,
      "outputs": []
    },
    {
      "cell_type": "code",
      "source": [
        "ob.display()"
      ],
      "metadata": {
        "id": "NZTutEF6zM6R"
      },
      "execution_count": null,
      "outputs": []
    },
    {
      "cell_type": "code",
      "source": [
        "class info:\n",
        "  def __init__(self,a,b):\n",
        "    self.name=a\n",
        "    self.gender=b\n",
        "\n",
        "  def display(self):\n",
        "    print(\"My name is :\",self.name,\"\\n My gender is :\",self.gender)"
      ],
      "metadata": {
        "id": "xup1s-eHzO9r"
      },
      "execution_count": null,
      "outputs": []
    },
    {
      "cell_type": "code",
      "source": [
        "ob=info(\"ro\",26)"
      ],
      "metadata": {
        "id": "juvT7Cuoz-Ui"
      },
      "execution_count": null,
      "outputs": []
    },
    {
      "cell_type": "code",
      "source": [
        "ob.display()"
      ],
      "metadata": {
        "id": "fHOK0CgL0G6S"
      },
      "execution_count": null,
      "outputs": []
    },
    {
      "cell_type": "markdown",
      "source": [
        "**Inhertiance**"
      ],
      "metadata": {
        "id": "eyJVas9H421F"
      }
    },
    {
      "cell_type": "markdown",
      "source": [
        "single inhertiance"
      ],
      "metadata": {
        "id": "V-oA_S4X5EFh"
      }
    },
    {
      "cell_type": "code",
      "source": [
        "# without child and parent relationship\n",
        "class Parent:\n",
        "  def __init__(self):\n",
        "    self.name = \"Rohith\"\n",
        "\n",
        "class Child():\n",
        "  def display(self):\n",
        "    print(self.name)"
      ],
      "metadata": {
        "id": "jDrZJFot0Idf"
      },
      "execution_count": null,
      "outputs": []
    },
    {
      "cell_type": "code",
      "source": [
        "o=Child()"
      ],
      "metadata": {
        "id": "e1yOUdGj5qaI"
      },
      "execution_count": null,
      "outputs": []
    },
    {
      "cell_type": "code",
      "source": [
        "o.display()"
      ],
      "metadata": {
        "id": "eyboWTh45uz6"
      },
      "execution_count": null,
      "outputs": []
    },
    {
      "cell_type": "code",
      "source": [
        "# with relationship\n",
        "class Parent:\n",
        "  def __init__(self):\n",
        "    self.name=\"Parent Constructor\"\n",
        "\n",
        "class Child(Parent):\n",
        "  def display(self):\n",
        "    print(self.name)"
      ],
      "metadata": {
        "id": "Yk3ex9AD5xuv"
      },
      "execution_count": null,
      "outputs": []
    },
    {
      "cell_type": "code",
      "source": [
        "o=Child()"
      ],
      "metadata": {
        "id": "w9ZxFl2l6wV0"
      },
      "execution_count": null,
      "outputs": []
    },
    {
      "cell_type": "code",
      "source": [
        "o.display()"
      ],
      "metadata": {
        "id": "gwSj0Xbg6z-6"
      },
      "execution_count": null,
      "outputs": []
    },
    {
      "cell_type": "code",
      "source": [
        "class Parent:\n",
        "  def __init__(self):\n",
        "    print(\"default Constructor\")\n",
        "    self.name=\"Parent Constructor\"\n",
        "\n",
        "class Child(Parent):\n",
        "  def display(self):\n",
        "    print(self.name)"
      ],
      "metadata": {
        "id": "y0PCYXVq62JW"
      },
      "execution_count": null,
      "outputs": []
    },
    {
      "cell_type": "code",
      "source": [
        "ob=Child()"
      ],
      "metadata": {
        "id": "J9ed_1yX9eA0"
      },
      "execution_count": null,
      "outputs": []
    },
    {
      "cell_type": "code",
      "source": [
        "class Parent:\n",
        "  def __init__(self):\n",
        "    print(\"Parent Constuctor 1\")\n",
        "    self.name=\"ro\"\n",
        "    print(\"Parent 2nd cons\")\n",
        "\n",
        "class Class1(Parent):\n",
        "  def __init__(self):\n",
        "    print(\"\")"
      ],
      "metadata": {
        "id": "kSUVfLra9nLo"
      },
      "execution_count": null,
      "outputs": []
    }
  ]
}