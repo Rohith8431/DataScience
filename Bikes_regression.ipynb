{
  "nbformat": 4,
  "nbformat_minor": 0,
  "metadata": {
    "colab": {
      "provenance": []
    },
    "kernelspec": {
      "name": "python3",
      "display_name": "Python 3"
    },
    "language_info": {
      "name": "python"
    }
  },
  "cells": [
    {
      "cell_type": "code",
      "execution_count": null,
      "metadata": {
        "id": "4TcvsuPOxD4S"
      },
      "outputs": [],
      "source": [
        "import pandas as pd\n",
        "import numpy as np\n",
        "import matplotlib.pyplot as plt\n",
        "from imblearn.over_sampling import RandomOverSampler\n",
        "from sklearn.preprocessing import StandardScaler\n",
        "import copy\n",
        "import seaborn as sns\n",
        "import tensorflow as tf\n",
        "from sklearn.linear_model import LinearRegression"
      ]
    },
    {
      "cell_type": "code",
      "source": [
        "dataset_cols = [\"bike_count\",\"hour\",\"temp\",\"humidity\",\"wind\",\"visibility\",\"dew_pt_temp\",\"radiation\",\"rain\",\"snow\",\"functional\"]\n",
        "df = pd.read_csv(\"Bike.csv\").drop([\"Seasons\",\"Holiday\",\"Date\"],axis=1)  #axis=1 means drop it from the column"
      ],
      "metadata": {
        "id": "_0VN8-N0CCFr"
      },
      "execution_count": null,
      "outputs": []
    },
    {
      "cell_type": "code",
      "source": [
        "df.head()"
      ],
      "metadata": {
        "id": "9cs9vXXsEsjW"
      },
      "execution_count": null,
      "outputs": []
    },
    {
      "cell_type": "code",
      "source": [
        "df.columns=dataset_cols"
      ],
      "metadata": {
        "id": "Zo8t0eEMF8rt"
      },
      "execution_count": null,
      "outputs": []
    },
    {
      "cell_type": "code",
      "source": [
        "df.head()"
      ],
      "metadata": {
        "id": "-6t0wGh3JVaw"
      },
      "execution_count": null,
      "outputs": []
    },
    {
      "cell_type": "code",
      "source": [
        "df[\"functional\"]=(df[\"functional\"]==\"Yes\").astype(int)"
      ],
      "metadata": {
        "id": "SzqMDB5iJYXD"
      },
      "execution_count": null,
      "outputs": []
    },
    {
      "cell_type": "code",
      "source": [
        "df.head()"
      ],
      "metadata": {
        "id": "Za8rIhlzNL83"
      },
      "execution_count": null,
      "outputs": []
    },
    {
      "cell_type": "code",
      "source": [
        "df=df[df[\"hour\"]==12]\n",
        "df"
      ],
      "metadata": {
        "id": "E_r9F4IpNNog"
      },
      "execution_count": null,
      "outputs": []
    },
    {
      "cell_type": "code",
      "source": [
        "df=df.drop([\"hour\"],axis=1)"
      ],
      "metadata": {
        "id": "-1jMZSykOaXN"
      },
      "execution_count": null,
      "outputs": []
    },
    {
      "cell_type": "code",
      "source": [
        "df.head()"
      ],
      "metadata": {
        "id": "v2ZqKNVwPVfT"
      },
      "execution_count": null,
      "outputs": []
    },
    {
      "cell_type": "code",
      "source": [
        "for label in df.columns[1:]:\n",
        "  plt.scatter(df[label],df[\"bike_count\"])\n",
        "  plt.title(label)\n",
        "  plt.ylabel(\"Bikes count at noon\")\n",
        "  plt.xlabel(label)\n",
        "  plt.show()"
      ],
      "metadata": {
        "id": "ALYZOez1PcqM"
      },
      "execution_count": null,
      "outputs": []
    },
    {
      "cell_type": "code",
      "source": [
        "df=df.drop([\"wind\",\"visibility\",\"functional\"],axis=1)"
      ],
      "metadata": {
        "id": "f2--LrzzS4iq"
      },
      "execution_count": null,
      "outputs": []
    },
    {
      "cell_type": "code",
      "source": [
        "df.head()"
      ],
      "metadata": {
        "id": "O9lLJJasTvGA"
      },
      "execution_count": null,
      "outputs": []
    },
    {
      "cell_type": "markdown",
      "source": [
        "# Train, Validate and Test\n"
      ],
      "metadata": {
        "id": "E6NElhjQdLXW"
      }
    },
    {
      "cell_type": "code",
      "source": [
        "train, val, test = np.split(df.sample(frac=1),[int(0.6*len(df)),int(0.8*len(df))])"
      ],
      "metadata": {
        "id": "SxVUsnHATy6W"
      },
      "execution_count": null,
      "outputs": []
    },
    {
      "cell_type": "code",
      "source": [
        "def get_xy(dataframe,y_label,x_label=None):\n",
        "  datafame=copy.deepcopy(dataframe)\n",
        "  if not x_label:\n",
        "    X = dataframe [[c for c in dataframe.columns if c!=y_label]].values\n",
        "  else:\n",
        "    if len(x_label)==1:\n",
        "      X=dataframe[x_label[0]].values.reshape(-1,1)\n",
        "    else:\n",
        "       X =dataframe[x_label].values\n",
        "  y=dataframe[y_label].values.reshape(-1,1)\n",
        "  data = np.hstack((X,y))\n",
        "  return data,X,y"
      ],
      "metadata": {
        "id": "WKZ-L6kHdJZS"
      },
      "execution_count": null,
      "outputs": []
    },
    {
      "cell_type": "code",
      "source": [
        "_,X_train_temp,y_train_temp = get_xy(train, \"bike_count\", x_label=[\"temp\"])\n",
        "_,X_val_temp,y_val_temp = get_xy(val, \"bike_count\", x_label=[\"temp\"])\n",
        "_,X_test_temp,y_test_temp = get_xy(test, \"bike_count\", x_label=[\"temp\"])\n"
      ],
      "metadata": {
        "id": "IjdyhGWjg3X-"
      },
      "execution_count": null,
      "outputs": []
    },
    {
      "cell_type": "code",
      "source": [],
      "metadata": {
        "id": "1Y7lBwD8hopp"
      },
      "execution_count": null,
      "outputs": []
    }
  ]
}