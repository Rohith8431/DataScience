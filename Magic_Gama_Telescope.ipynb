{
  "nbformat": 4,
  "nbformat_minor": 0,
  "metadata": {
    "colab": {
      "provenance": []
    },
    "kernelspec": {
      "name": "python3",
      "display_name": "Python 3"
    },
    "language_info": {
      "name": "python"
    }
  },
  "cells": [
    {
      "cell_type": "code",
      "execution_count": null,
      "metadata": {
        "id": "HRjzbPkqJQ2U"
      },
      "outputs": [],
      "source": [
        "import pandas as pd\n",
        "import numpy as np\n",
        "import matplotlib.pyplot as plt"
      ]
    },
    {
      "cell_type": "code",
      "source": [
        "pd.read_csv(\"magic04.data\")"
      ],
      "metadata": {
        "id": "Ea6VwZNPJm4i"
      },
      "execution_count": null,
      "outputs": []
    },
    {
      "cell_type": "code",
      "source": [
        "cols = [\"fLength\",\"fWidth\",\"fSize\",\"fConc\",\"fConc1\",\"fAsym\",\"fM3Long\",\"fM3Trans\",\"fAlpha\",\"fDist\",\"class\"]\n",
        "df = pd.read_csv(\"magic04.data\",names=cols)\n",
        "df.head()"
      ],
      "metadata": {
        "id": "xzAIIuiBKPJE"
      },
      "execution_count": null,
      "outputs": []
    },
    {
      "cell_type": "markdown",
      "source": [
        " here from \"flength\" to \"class\" called feature, feature are just thing that we are going to pass our model in order to help us predict the label,which in this case class column.\n",
        "\n",
        " here sample 0 has 10 different feature,so i have 10 different values that i can pass into some model."
      ],
      "metadata": {
        "id": "CW2aEMJWNZze"
      }
    },
    {
      "cell_type": "code",
      "source": [
        "df[\"class\"].unique()      #g-gamma h-hydra"
      ],
      "metadata": {
        "id": "dhdmdoLbMGTn"
      },
      "execution_count": null,
      "outputs": []
    },
    {
      "cell_type": "code",
      "source": [],
      "metadata": {
        "id": "N7kuEiUdMuKJ"
      },
      "execution_count": null,
      "outputs": []
    }
  ]
}